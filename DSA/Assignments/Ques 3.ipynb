{
 "cells": [
  {
   "cell_type": "markdown",
   "metadata": {},
   "source": [
    "### Write a program to check if two strings are a rotation of each other?"
   ]
  },
  {
   "cell_type": "code",
   "execution_count": 4,
   "metadata": {},
   "outputs": [
    {
     "name": "stdout",
     "output_type": "stream",
     "text": [
      "Enter first string : abcd\n",
      "Enter second string : cdab\n",
      "Strings are rotations of each other\n"
     ]
    }
   ],
   "source": [
    "def rotation_string(s1, s2):\n",
    "    temp = ''\n",
    "    if len(s1) != len(s2):\n",
    "        return False\n",
    "    else:\n",
    "        temp = s1+s1\n",
    "        \n",
    "        if s2 in temp:\n",
    "            return True\n",
    "        else:\n",
    "            return False\n",
    "s1 = input('Enter first string : ')\n",
    "s2 = input('Enter second string : ')\n",
    "if rotation_string(s1,s2):\n",
    "    print('Strings are rotations of each other')\n",
    "else:\n",
    "    print(\"Strings are not a rotations\")"
   ]
  },
  {
   "cell_type": "code",
   "execution_count": null,
   "metadata": {},
   "outputs": [],
   "source": []
  }
 ],
 "metadata": {
  "kernelspec": {
   "display_name": "Python 3",
   "language": "python",
   "name": "python3"
  },
  "language_info": {
   "codemirror_mode": {
    "name": "ipython",
    "version": 3
   },
   "file_extension": ".py",
   "mimetype": "text/x-python",
   "name": "python",
   "nbconvert_exporter": "python",
   "pygments_lexer": "ipython3",
   "version": "3.8.6"
  }
 },
 "nbformat": 4,
 "nbformat_minor": 4
}
