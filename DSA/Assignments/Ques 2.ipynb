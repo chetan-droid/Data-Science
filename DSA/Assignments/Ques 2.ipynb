{
 "cells": [
  {
   "cell_type": "markdown",
   "metadata": {},
   "source": [
    "### Write a program to reverse an array in place? In place means you cannot create a new array. You have to update the original array."
   ]
  },
  {
   "cell_type": "code",
   "execution_count": 10,
   "metadata": {},
   "outputs": [
    {
     "name": "stdout",
     "output_type": "stream",
     "text": [
      "\n",
      "Enter the numbers with space: 2 3 4 5 6\n",
      "---Array before reversing---\n",
      "[2, 3, 4, 5, 6]\n",
      "----After reversing-----\n",
      "[6, 5, 4, 3, 2]\n"
     ]
    }
   ],
   "source": [
    "def reverse_array(arr, start, end):\n",
    "    \n",
    "    while start<end:\n",
    "        arr[start], arr[end] = arr[end], arr[start]\n",
    "        \n",
    "        start +=1\n",
    "        end-=1\n",
    "        \n",
    "arr = list(map(int,input(\"\\nEnter the numbers with space: \").strip().split()))\n",
    "start = 0\n",
    "end = len(arr)-1\n",
    "print(\"---Array before reversing---\")\n",
    "print(arr)\n",
    "reverse_array(arr, start, end)\n",
    "print(\"----After reversing-----\")\n",
    "print(arr)"
   ]
  },
  {
   "cell_type": "code",
   "execution_count": null,
   "metadata": {},
   "outputs": [],
   "source": []
  }
 ],
 "metadata": {
  "kernelspec": {
   "display_name": "Python 3",
   "language": "python",
   "name": "python3"
  },
  "language_info": {
   "codemirror_mode": {
    "name": "ipython",
    "version": 3
   },
   "file_extension": ".py",
   "mimetype": "text/x-python",
   "name": "python",
   "nbconvert_exporter": "python",
   "pygments_lexer": "ipython3",
   "version": "3.8.6"
  }
 },
 "nbformat": 4,
 "nbformat_minor": 4
}
