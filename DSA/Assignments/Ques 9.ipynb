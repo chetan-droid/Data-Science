{
 "cells": [
  {
   "cell_type": "markdown",
   "metadata": {},
   "source": [
    "### Write a program to reverse a stack"
   ]
  },
  {
   "cell_type": "code",
   "execution_count": 15,
   "metadata": {},
   "outputs": [
    {
     "name": "stdout",
     "output_type": "stream",
     "text": [
      "Original Stack\n",
      "5\n",
      "4\n",
      "3\n",
      "2\n",
      "1\n",
      "\n",
      "Stack after Reversing\n",
      "1\n",
      "2\n",
      "3\n",
      "4\n",
      "5\n"
     ]
    }
   ],
   "source": [
    "class Stack:\n",
    " \n",
    "    # create empty list\n",
    "    def __init__(self):\n",
    "        self.Elements = []\n",
    "         \n",
    "    # push() for insert an element\n",
    "    def push(self, value):\n",
    "        self.Elements.append(value)\n",
    "       \n",
    "    # pop() for remove an element\n",
    "    def pop(self):\n",
    "        return self.Elements.pop()\n",
    "     \n",
    "    # empty() check the stack is empty of not\n",
    "    def empty(self):\n",
    "        return self.Elements == []\n",
    "     \n",
    "    # show() display stack\n",
    "    def show(self):\n",
    "        for value in reversed(self.Elements):\n",
    "            print(value)\n",
    " \n",
    "# Insert_Bottom() insert value at bottom\n",
    "def BottomInsert(s, value):\n",
    "   \n",
    "    # check the stack is empty or not\n",
    "    if s.empty():\n",
    "        s.push(value)\n",
    "         \n",
    "    else:\n",
    "        popped = s.pop()\n",
    "        BottomInsert(s, value)\n",
    "        s.push(popped)\n",
    " \n",
    "# Reverse() reverse the stack\n",
    "def Reverse(s):\n",
    "    if s.empty():\n",
    "        pass\n",
    "    else:\n",
    "        popped = s.pop()\n",
    "        Reverse(s)\n",
    "        BottomInsert(s, popped)\n",
    " \n",
    " \n",
    "# create object of stack class\n",
    "stk = Stack()\n",
    " \n",
    "stk.push(1)\n",
    "stk.push(2)\n",
    "stk.push(3)\n",
    "stk.push(4)\n",
    "stk.push(5)\n",
    " \n",
    "print(\"Original Stack\")\n",
    "stk.show()\n",
    " \n",
    "print(\"\\nStack after Reversing\")\n",
    "Reverse(stk)\n",
    "stk.show()"
   ]
  }
 ],
 "metadata": {
  "kernelspec": {
   "display_name": "Python 3",
   "language": "python",
   "name": "python3"
  },
  "language_info": {
   "codemirror_mode": {
    "name": "ipython",
    "version": 3
   },
   "file_extension": ".py",
   "mimetype": "text/x-python",
   "name": "python",
   "nbconvert_exporter": "python",
   "pygments_lexer": "ipython3",
   "version": "3.8.6"
  }
 },
 "nbformat": 4,
 "nbformat_minor": 4
}
