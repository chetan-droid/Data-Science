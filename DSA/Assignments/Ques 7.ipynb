{
 "cells": [
  {
   "cell_type": "markdown",
   "metadata": {},
   "source": [
    "### Write a program to convert prefix expression to infix expression."
   ]
  },
  {
   "cell_type": "code",
   "execution_count": 12,
   "metadata": {},
   "outputs": [
    {
     "name": "stdout",
     "output_type": "stream",
     "text": [
      "Enter prefix : *+AB-CD\n",
      "Infix :  ((A+B)*(C-D))\n"
     ]
    }
   ],
   "source": [
    "\n",
    "def prefix_to_infix(prefix):\n",
    "    stack = []\n",
    "    \n",
    "    i = len(prefix) -1\n",
    "    while i >= 0:\n",
    "        if not isOperator(prefix[i]):\n",
    "            \n",
    "            stack.append(prefix[i])\n",
    "            i-=1\n",
    "        else:\n",
    "            str = \"(\" + stack.pop() + prefix[i] + stack.pop() + \")\"\n",
    "            stack.append(str)\n",
    "            i-=1\n",
    "    return stack.pop()\n",
    "\n",
    "\n",
    "\n",
    "def isOperator(c):\n",
    "    if c == \"*\":\n",
    "        return True\n",
    "    if c == \"+\":\n",
    "        return True\n",
    "    if c == \"-\":\n",
    "        return True\n",
    "    if c == \"/\":\n",
    "        return True\n",
    "    if c == \"^\":\n",
    "        return True\n",
    "    if c == \"(\":\n",
    "        return True\n",
    "    if c == \")\":\n",
    "        return True\n",
    "    return False\n",
    "\n",
    "        \n",
    "if __name__ == \"__main__\":\n",
    "    str = input(\"Enter prefix : \")\n",
    "    print(\"Infix : \",prefix_to_infix(str))"
   ]
  },
  {
   "cell_type": "code",
   "execution_count": null,
   "metadata": {},
   "outputs": [],
   "source": []
  }
 ],
 "metadata": {
  "kernelspec": {
   "display_name": "Python 3",
   "language": "python",
   "name": "python3"
  },
  "language_info": {
   "codemirror_mode": {
    "name": "ipython",
    "version": 3
   },
   "file_extension": ".py",
   "mimetype": "text/x-python",
   "name": "python",
   "nbconvert_exporter": "python",
   "pygments_lexer": "ipython3",
   "version": "3.8.6"
  }
 },
 "nbformat": 4,
 "nbformat_minor": 4
}
