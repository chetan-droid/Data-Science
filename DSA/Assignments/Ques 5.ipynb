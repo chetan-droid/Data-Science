{
 "cells": [
  {
   "cell_type": "markdown",
   "metadata": {},
   "source": [
    "###  Read about the Tower of Hanoi algorithm. Write a program to implement it.\n"
   ]
  },
  {
   "cell_type": "code",
   "execution_count": 8,
   "metadata": {},
   "outputs": [
    {
     "name": "stdout",
     "output_type": "stream",
     "text": [
      "Enter number of disks: 2\n",
      "Move disk 1 from rod A to rod B.\n",
      "Move disk 2 from rod A to rod C.\n",
      "Move disk 1 from rod B to rod C.\n"
     ]
    }
   ],
   "source": [
    "def hanoi(disks, source, auxiliary, target):\n",
    "    if disks == 1:\n",
    "        print('Move disk 1 from rod {} to rod {}.'.format(source, target))\n",
    "        return\n",
    " \n",
    "    hanoi(disks - 1, source, target, auxiliary)\n",
    "    print('Move disk {} from rod {} to rod {}.'.format(disks, source, target))\n",
    "    hanoi(disks - 1, auxiliary, source, target)\n",
    " \n",
    " \n",
    "disks = int(input('Enter number of disks: '))\n",
    "hanoi(disks, 'A', 'B', 'C')"
   ]
  },
  {
   "cell_type": "code",
   "execution_count": null,
   "metadata": {},
   "outputs": [],
   "source": []
  }
 ],
 "metadata": {
  "kernelspec": {
   "display_name": "Python 3",
   "language": "python",
   "name": "python3"
  },
  "language_info": {
   "codemirror_mode": {
    "name": "ipython",
    "version": 3
   },
   "file_extension": ".py",
   "mimetype": "text/x-python",
   "name": "python",
   "nbconvert_exporter": "python",
   "pygments_lexer": "ipython3",
   "version": "3.8.6"
  }
 },
 "nbformat": 4,
 "nbformat_minor": 4
}
