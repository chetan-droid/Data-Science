{
 "cells": [
  {
   "cell_type": "markdown",
   "metadata": {},
   "source": [
    "###  Read about infix, prefix, and postfix expressions. Write a program to convert postfix to prefix expression.\n"
   ]
  },
  {
   "cell_type": "code",
   "execution_count": 7,
   "metadata": {},
   "outputs": [
    {
     "name": "stdout",
     "output_type": "stream",
     "text": [
      "Enter Postfix expression : \"AB+CD-\"\n",
      "Prefix :  \"+AB-CD\"\n"
     ]
    }
   ],
   "source": [
    "#Checking whether the character is operator or not\n",
    "def isOperator(x):\n",
    "    \n",
    "    if x == \"+\":\n",
    "        return True\n",
    "    if x == \"-\":\n",
    "        return True\n",
    "    if x == \"*\":\n",
    "        return True\n",
    "    if x == '/':\n",
    "        return True\n",
    "    \n",
    "    return False\n",
    "\n",
    "#Convert profix to prefix \n",
    "\n",
    "def conversionPost_Pre(post_expr):\n",
    "    \n",
    "    stack = []\n",
    "    \n",
    "    for i in range(len(post_expr)):\n",
    "        \n",
    "        if (isOperator(post_expr[i])):\n",
    "            \n",
    "            op1 = stack[-1]\n",
    "            stack.pop()\n",
    "            op2 = stack[-1]\n",
    "            stack.pop()\n",
    "            \n",
    "            temp = post_expr[i] + op2 + op1\n",
    "            \n",
    "            stack.append(temp)\n",
    "            \n",
    "        else:\n",
    "            stack.append(post_expr[i])\n",
    "            \n",
    "        \n",
    "    ans = \"\"\n",
    "    for i in stack:\n",
    "        ans +=i\n",
    "    return ans\n",
    "\n",
    "\n",
    "post_expr = input(\"Enter Postfix expression : \")\n",
    "\n",
    "print(\"Prefix : \", conversionPost_Pre(post_expr))"
   ]
  },
  {
   "cell_type": "code",
   "execution_count": null,
   "metadata": {},
   "outputs": [],
   "source": []
  }
 ],
 "metadata": {
  "kernelspec": {
   "display_name": "Python 3",
   "language": "python",
   "name": "python3"
  },
  "language_info": {
   "codemirror_mode": {
    "name": "ipython",
    "version": 3
   },
   "file_extension": ".py",
   "mimetype": "text/x-python",
   "name": "python",
   "nbconvert_exporter": "python",
   "pygments_lexer": "ipython3",
   "version": "3.8.6"
  }
 },
 "nbformat": 4,
 "nbformat_minor": 4
}
