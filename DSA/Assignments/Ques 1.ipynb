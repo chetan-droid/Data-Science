{
 "cells": [
  {
   "cell_type": "markdown",
   "metadata": {},
   "source": [
    " ## Write a program to find all pairs of an integer array whose sum is equal to a given number?"
   ]
  },
  {
   "cell_type": "code",
   "execution_count": null,
   "metadata": {},
   "outputs": [],
   "source": [
    "def find_pair(arr, n, sum):\n",
    "    \n",
    "    count = 0\n",
    "    for i in range(0, n):\n",
    "        for j in range(i+1, n):\n",
    "            if arr[i] + arr[j] == sum:\n",
    "                count +=1 \n",
    "            \n",
    "    return count\n",
    "    \n",
    "arr = list(map(int,input(\"\\nEnter the numbers with space: \").strip().split()))\n",
    "print(arr)\n",
    "n = len(arr)\n",
    "sum = int(input(\"Enter a sum value : \"))\n",
    "print(\"Count of pair is \",find_pair(arr, n, sum))\n",
    "   "
   ]
  }
 ],
 "metadata": {
  "kernelspec": {
   "display_name": "Python 3",
   "language": "python",
   "name": "python3"
  },
  "language_info": {
   "codemirror_mode": {
    "name": "ipython",
    "version": 3
   },
   "file_extension": ".py",
   "mimetype": "text/x-python",
   "name": "python",
   "nbconvert_exporter": "python",
   "pygments_lexer": "ipython3",
   "version": "3.8.6"
  }
 },
 "nbformat": 4,
 "nbformat_minor": 4
}
