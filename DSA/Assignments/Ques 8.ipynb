{
 "cells": [
  {
   "cell_type": "markdown",
   "metadata": {},
   "source": [
    "### Write a program to check if all the brackets are closed in a given code snippet."
   ]
  },
  {
   "cell_type": "code",
   "execution_count": 2,
   "metadata": {},
   "outputs": [
    {
     "name": "stdout",
     "output_type": "stream",
     "text": [
      "Brackets : {()}[]\n",
      "Balanced \n"
     ]
    }
   ],
   "source": [
    "def balanced_brackets(expr):\n",
    "    stack = []\n",
    "    \n",
    "    for char in expr:\n",
    "        if char in [\"(\", \"[\", \"{\"]:\n",
    "            stack.append(char)\n",
    "        else:\n",
    "            if not stack:\n",
    "                return False\n",
    "            current_char = stack.pop()\n",
    "            if current_char == \"(\":\n",
    "                if char != \")\":\n",
    "                    return False\n",
    "            if current_char == \"[\":\n",
    "                if char != \"]\":\n",
    "                    return False\n",
    "            if current_char == \"{\":\n",
    "                if char != \"}\":\n",
    "                    return False\n",
    "    if stack:\n",
    "        return False\n",
    "    return True\n",
    "\n",
    "if __name__ == \"__main__\":\n",
    "    expr = input(\"Brackets : \")\n",
    "    \n",
    "    if balanced_brackets(expr):\n",
    "        print(\"Balanced \")\n",
    "    else:\n",
    "        print(\"Not Balanced\")"
   ]
  },
  {
   "cell_type": "code",
   "execution_count": null,
   "metadata": {},
   "outputs": [],
   "source": []
  }
 ],
 "metadata": {
  "kernelspec": {
   "display_name": "Python 3",
   "language": "python",
   "name": "python3"
  },
  "language_info": {
   "codemirror_mode": {
    "name": "ipython",
    "version": 3
   },
   "file_extension": ".py",
   "mimetype": "text/x-python",
   "name": "python",
   "nbconvert_exporter": "python",
   "pygments_lexer": "ipython3",
   "version": "3.8.6"
  }
 },
 "nbformat": 4,
 "nbformat_minor": 4
}
