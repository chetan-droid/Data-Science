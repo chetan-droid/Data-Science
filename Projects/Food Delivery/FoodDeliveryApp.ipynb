{
 "cells": [
  {
   "cell_type": "code",
   "execution_count": 2,
   "metadata": {},
   "outputs": [
    {
     "name": "stdout",
     "output_type": "stream",
     "text": [
      "1) Admin\n",
      "2) User\n",
      "3) Exit\n",
      "Enter your selction : 3\n",
      "Visit again!!!!!\n"
     ]
    }
   ],
   "source": [
    "import json\n",
    "import datetime\n",
    "from json.decoder import JSONDecodeError\n",
    "\n",
    "# ---------------------------ADD FOOD ITEMS------------------------>>>\n",
    "def add_food(filename, food_name, quantity, price, discount, stock):\n",
    "    food_ID = len(food) + 1\n",
    "    food = {}\n",
    "    food_items = {'Food_Name' : food_name,\n",
    "                  'Quantity' : quantity,\n",
    "                  'Price': price,\n",
    "                  'Discount' : discount,\n",
    "                  'Stock': stock}\n",
    "    \n",
    "    try:\n",
    "        file = open(filename, 'r+')\n",
    "        data = json.load(file)\n",
    "        \n",
    "        for i in data:\n",
    "            if data[i]['Food_Name'] == food_name:\n",
    "                file.close()\n",
    "                return 'Food already exists'\n",
    "            \n",
    "        else:\n",
    "            food_ID = len(data) + 1\n",
    "            food[food_ID] = food_items\n",
    "            data.update(food)\n",
    "            \n",
    "    except json.decoder.JSONDecodeError:\n",
    "        data = {}\n",
    "        food[food_ID] = food_items\n",
    "        data.update(food)\n",
    "    file.seek(0)\n",
    "    file.truncate()\n",
    "    json.dump(data, file, indent=4)\n",
    "    file.close()\n",
    "    return 'Success'\n",
    "        \n",
    "# -------------------------EDIT FOOD----------------------->>>  \n",
    "def edit_food(filename, food_ID):\n",
    "    \n",
    "    file = open(filename)\n",
    "    content = json.load(file)\n",
    "    file.close()\n",
    "    if food_ID in content.keys():\n",
    "        print(\"What you want to update in food item??\")\n",
    "        print(\"1) Update food name\")\n",
    "        print(\"2) Update food Quantity\")\n",
    "        print(\"3) Update food price\")\n",
    "        print(\"4) Update discount on food\")\n",
    "        print(\"5) Update stock availability\")\n",
    "\n",
    "        y = input('Enter your choice : ')\n",
    "        if y == '1':\n",
    "            content[food_ID][\"Food Name\"] = input('Enter Updated name :')\n",
    "            print(\"\\n Updated Successfully \\n\")\n",
    "        elif y == '2':\n",
    "            content[food_ID][\"Quantity\"] = input('Enter Updated quantity :')\n",
    "            print(\"\\n Updated Successfully \\n\")\n",
    "        elif y == '3':\n",
    "            content[food_ID][\"Price\"] = input('Enter Updated price :')\n",
    "            print(\"\\n Updated Successfully \\n\")\n",
    "        elif y == '4':\n",
    "            content[food_ID][\"Discount\"] = input('Enter Updated discount value :')\n",
    "            print(\"\\n Updated Successfully \\n\")\n",
    "        elif y == '5':\n",
    "            content[food_ID][\"Stock\"] = input('Enter Updated stock :')\n",
    "            print(\"\\n Updated Successfully \\n\")\n",
    "        else:\n",
    "            print('Invalid selection')\n",
    "    else:\n",
    "        print('Invalid Food ID') \n",
    "    file = open(filename, 'w')\n",
    "    json.dumps(content)\n",
    "    file.close()\n",
    "    return 'Success'\n",
    "    \n",
    "    \n",
    "#------------------------------REMOVE FOOD ITEM-------------------->>>\n",
    "def remove_food(filename, food_ID):\n",
    "    file = open(filename, 'r+')\n",
    "    data = json.load(file)\n",
    "    \n",
    "    for i in data:\n",
    "        if i == input('Enter food ID : '):\n",
    "            del data[i]\n",
    "            file.seek(0)\n",
    "            file.truncate()\n",
    "            json.dump(data, file, indent=4)\n",
    "            file.close()\n",
    "            return 'Success'\n",
    "    return 'Please enter valid food ID'\n",
    "\n",
    "#------------------------SHOW FOOD--------------------->>>\n",
    "def show_food(filename):\n",
    "    try:\n",
    "        file = open(filename)\n",
    "        content = json.load(file)\n",
    "        print(\"-------------Menu------------\")\n",
    "    \n",
    "        for i in content:\n",
    "            print(f'Food ID : {i}')\n",
    "            print(f\"Food Name : {content[i]['Food Name']}\")\n",
    "            print(f\"Quantity : {content[i]['Quantity']}\")\n",
    "            print(f\"Price : {content[i]['Price']}\")\n",
    "            print(f\"Discount : {content[i]['Discount']}\")\n",
    "            print(f\"Stock : {content[i]['Stock']}\")\n",
    "            print('----------------------------------------')\n",
    "        file.close()\n",
    "        return True\n",
    "    except json.JSONDecodeError:\n",
    "        content = {}\n",
    "        return 'No food available'\n",
    "\n",
    "# -----------------------REGISTER NEW USERS------------------------------->>>\n",
    "def register_user(user_file, username, password, email, address, phn_number):\n",
    "    \n",
    "    user = {'Full_name': username, \n",
    "           'Password': password, \n",
    "           'Email' : email, \n",
    "           'Address': address,\n",
    "           'Phone Number' : phn_number,\n",
    "           'Order History' : {}\n",
    "           }\n",
    "    try:\n",
    "        file = open(user_file, 'r+')\n",
    "        content = json.load(file)\n",
    "        for i in range(len(content)):\n",
    "            if content[i]['Email'] == email:\n",
    "                return 'User already exists'\n",
    "            \n",
    "        else:\n",
    "            content.append(user)\n",
    "    except json.decoder.JSONDecodeError:\n",
    "        user = []\n",
    "        content.append(user)\n",
    "        \n",
    "    file.seek(0)\n",
    "    file.truncate()\n",
    "    json.dump(content, file, indent=4)\n",
    "    return 'Registered successfully!'\n",
    "    \n",
    "    \n",
    "# ---------------------PLACE ORDERS-------------------->>>>\n",
    "def place_order(foodfile, userfile):\n",
    "    \n",
    "    file = open(foodfile, 'r+')\n",
    "    content = json.load(file)\n",
    "    if len(content) != 0:\n",
    "        menu = []\n",
    "        for items in content:\n",
    "            menu.append([content[items]['Food Name'], content[items]['Quantity'], content[items]['Price']])\n",
    "        for i in menu:\n",
    "            print(i)\n",
    "            \n",
    "        while True:\n",
    "            print(\"Enter 1 to place order \\nEnter 2 to Exit\")\n",
    "            x = input('Enter : ')\n",
    "            file1 = open(userfile, 'r+')\n",
    "            content1 = json.load(file1)\n",
    "            for i in content:\n",
    "                if x == '1':\n",
    "                    print('Enter the food ID you want to ordered separated by the comma')\n",
    "                    y = input().split(\",\")\n",
    "                    for i in y:\n",
    "                        z = int(i)\n",
    "                        if z <= len(menu):\n",
    "                            content1[i]['Order History'].append(menu[z-1])\n",
    "                        else:\n",
    "                            print(\"We don't have this food item\")\n",
    "                    print('List of food you selected : \\n')\n",
    "                    for j in content1[i]['Order History']:\n",
    "                        print(j)\n",
    "                elif x == '2':\n",
    "                    break\n",
    "                else:\n",
    "                    print(\"Invalid Number\")\n",
    "                    break\n",
    "    else:\n",
    "        print(\"Sorry! no food available\")\n",
    "        \n",
    "            \n",
    "\n",
    "# -------------------ORDER HISTORY-------------------->>>\n",
    "def order_history(filename, email):\n",
    "    file = open(filename, 'r+')\n",
    "    content = json.load(file)\n",
    "    \n",
    "    for i in range(len(content)):\n",
    "        if content[i]['Email'] == email:\n",
    "            print(\"----Order History-----\")\n",
    "            print(\"Date | Order\")\n",
    "            for i, j in content[i]['Order History'].items():\n",
    "                print(f\"{i} | {j}\")\n",
    "            file.close()\n",
    "            return True\n",
    "    file.close()\n",
    "    return False\n",
    "        \n",
    "\n",
    "    \n",
    "#----------------------------UPDATE USER PROFILE------------->>>>\n",
    "def update_user_profile(filename):\n",
    "    file = open(filename, 'r+')\n",
    "    content = json.load(file)\n",
    "    \n",
    "    for i in content:\n",
    "        print('What you want to update??')\n",
    "        print(\"1) Update Name\")\n",
    "        print(\"2) Update password\")\n",
    "        print(\"3) Update address\")\n",
    "        print(\"4) Update Phone number\")\n",
    "        print(\"5) Exit\")\n",
    "        val = input('Enter your choice : ')\n",
    "        \n",
    "        if val == \"1\":\n",
    "            i[\"Full_name\"] = input('Enter updated name : ')\n",
    "            print(\"Updated successfully\")\n",
    "        elif val == \"2\":\n",
    "            i[\"Password\"] = input(\"Enter updated password : \")\n",
    "        elif val == \"3\":\n",
    "            i[\"Address\"] = input(\"Enter new address : \")\n",
    "        elif val == \"4\":\n",
    "            i[\"Phone Number\"] = input(\"Enter new phone number : \")\n",
    "        else:\n",
    "            break\n",
    "    file.seek(0)\n",
    "    file.truncate()\n",
    "    json.dump(content, file, indent=4)\n",
    "    file.close()\n",
    "    return True\n",
    "        \n",
    "\n",
    "    \n",
    "while True:\n",
    "    print(\"1) Admin\")\n",
    "    print(\"2) User\")\n",
    "    print(\"3) Exit\")\n",
    "\n",
    "    val = input(\"Enter your selction : \")\n",
    "    if val == \"1\":\n",
    "        fp = open('admin.json', 'r+')\n",
    "        content = json.load(fp)\n",
    "        username = input(\"Enter username : \")\n",
    "        password = input(\"Enter password : \")\n",
    "        if content[\"username\"] == username and content[\"password\"] == password:\n",
    "            while True:\n",
    "                print(\"---------ADMIN---------\")\n",
    "                print(\"1) Add food items\")\n",
    "                print(\"2) Edit food items\")\n",
    "                print(\"3) View food list\")\n",
    "                print(\"4) Remove food item\")\n",
    "                print(\"5) Logout as admin\")\n",
    "\n",
    "                val2 = input(\"Enter your selection : \")\n",
    "                if val2 == \"1\":\n",
    "                    food_name = input(\"Enter food name : \")\n",
    "                    quantity = input(\"Enter quantity : \")\n",
    "                    price = float(input(\"Enter food price : \"))\n",
    "                    discount = float(input(\"Enter discount value : \"))\n",
    "                    stock = int(input(\"Enter stock availability : \"))\n",
    "                    add_food(\"food.json\", food_name, quantity, price, discount, stock)\n",
    "\n",
    "                elif val2 == \"2\":\n",
    "                    food_ID = input(\"Enter food ID : \")\n",
    "                    edit_food(\"food.json\", food_ID)\n",
    "                elif val2 == \"3\":\n",
    "                    show_food(\"food.json\")\n",
    "                elif val2 == \"4\":\n",
    "                    remove_food('food.json', food_ID)\n",
    "                elif val2 == \"5\":\n",
    "                    break\n",
    "                    print(\"-------Admin logout successfully!--------\\n\")\n",
    "                else:\n",
    "                    print(\"------Invalid selection!!!-----\\n\")\n",
    "        else:\n",
    "            print(\"--------Wrong username and password-----------\\n\")\n",
    "        fp.close()\n",
    "#         except json.JSONDecodeError:\n",
    "#             with open('admin.json') as file:\n",
    "#                 content = json.load(file)\n",
    "\n",
    "    elif val == \"2\":\n",
    "        print(\"\\n1) Register new user\")\n",
    "        print(\"2) Login User\")\n",
    "        print(\"3) Exit\\n\")\n",
    "\n",
    "        val3 = input(\"Enter your choice : \")\n",
    "\n",
    "        if val3 == \"1\":\n",
    "            username = input(\"Enter fullname : \")\n",
    "            email = input(\"Enter email ID : \")\n",
    "            password = input(\"Enter password : \")\n",
    "            address = input(\"Enter address : \")\n",
    "            phn_number = int(input(\"Enter Phone number : \"))\n",
    "            register_user(\"user.json\", username, email, password, address, phn_number)\n",
    "        elif val3 == \"2\":\n",
    "            email = input(\"Enter user email ID : \")\n",
    "            password = input(\"Enter user password : \")\n",
    "            file = open(\"user.json\", 'r+')\n",
    "            content = json.load(file)\n",
    "\n",
    "            for i in range(len(content)):\n",
    "                if content[i]['Email'] == email and content[i][\"Password\"] == password:\n",
    "                    while True:\n",
    "                        print(f\"\\n-------------Hello {content[i]['Full_name']}-----------\")\n",
    "                        print(\"1) Place order\")\n",
    "                        print(\"2) Order History\")\n",
    "                        print(\"3) Update profile\")\n",
    "                        print(\"4) Logout\")\n",
    "\n",
    "                        val4 = input(\"Enter your choice : \")\n",
    "\n",
    "                        if val4 == \"1\":\n",
    "                            place_order(\"food.json\", \"user.json\")\n",
    "                        elif val4 == \"2\":\n",
    "                            order_history('user.json', email)\n",
    "                        elif val4 == \"3\":\n",
    "                            update_user_profile('user.json')\n",
    "                        elif val4 == \"4\":\n",
    "                            print(\"User logout successfully\\n\")\n",
    "                            break\n",
    "\n",
    "                        else:\n",
    "                            print(\"Invalid selection\\n\")\n",
    "                else:\n",
    "                    print(\"Worng username and password!!!\\n\")\n",
    "        elif val3 == \"3\":\n",
    "            break\n",
    "        else:\n",
    "            print(\"Invalid selection!!!\\n\")\n",
    "\n",
    "    elif val == \"3\":\n",
    "        print(\"Visit again!!!!!\")\n",
    "        break\n",
    "\n",
    "\n",
    "    "
   ]
  },
  {
   "cell_type": "code",
   "execution_count": 22,
   "metadata": {},
   "outputs": [
    {
     "data": {
      "text/plain": [
       "'User already exists'"
      ]
     },
     "execution_count": 22,
     "metadata": {},
     "output_type": "execute_result"
    }
   ],
   "source": [
    "register_user('user.json', 'Chetan', 'chetan123', 'chetan@gmail.com', 'Jamshedpur', 8201252133)"
   ]
  },
  {
   "cell_type": "code",
   "execution_count": 3,
   "metadata": {},
   "outputs": [
    {
     "ename": "UnboundLocalError",
     "evalue": "local variable 'food' referenced before assignment",
     "output_type": "error",
     "traceback": [
      "\u001b[1;31m---------------------------------------------------------------------------\u001b[0m",
      "\u001b[1;31mUnboundLocalError\u001b[0m                         Traceback (most recent call last)",
      "\u001b[1;32m<ipython-input-3-7820f3b7c071>\u001b[0m in \u001b[0;36m<module>\u001b[1;34m\u001b[0m\n\u001b[1;32m----> 1\u001b[1;33m \u001b[0madd_food\u001b[0m\u001b[1;33m(\u001b[0m\u001b[1;34m'food.json'\u001b[0m\u001b[1;33m,\u001b[0m \u001b[1;34m'Kulche'\u001b[0m\u001b[1;33m,\u001b[0m \u001b[1;36m2\u001b[0m\u001b[1;33m,\u001b[0m \u001b[1;36m30\u001b[0m\u001b[1;33m,\u001b[0m \u001b[1;36m2\u001b[0m\u001b[1;33m,\u001b[0m \u001b[1;36m300\u001b[0m\u001b[1;33m)\u001b[0m\u001b[1;33m\u001b[0m\u001b[1;33m\u001b[0m\u001b[0m\n\u001b[0m",
      "\u001b[1;32m<ipython-input-2-caf54a79c8b5>\u001b[0m in \u001b[0;36madd_food\u001b[1;34m(filename, food_name, quantity, price, discount, stock)\u001b[0m\n\u001b[0;32m      5\u001b[0m \u001b[1;31m# ---------------------------ADD FOOD ITEMS------------------------>>>\u001b[0m\u001b[1;33m\u001b[0m\u001b[1;33m\u001b[0m\u001b[1;33m\u001b[0m\u001b[0m\n\u001b[0;32m      6\u001b[0m \u001b[1;32mdef\u001b[0m \u001b[0madd_food\u001b[0m\u001b[1;33m(\u001b[0m\u001b[0mfilename\u001b[0m\u001b[1;33m,\u001b[0m \u001b[0mfood_name\u001b[0m\u001b[1;33m,\u001b[0m \u001b[0mquantity\u001b[0m\u001b[1;33m,\u001b[0m \u001b[0mprice\u001b[0m\u001b[1;33m,\u001b[0m \u001b[0mdiscount\u001b[0m\u001b[1;33m,\u001b[0m \u001b[0mstock\u001b[0m\u001b[1;33m)\u001b[0m\u001b[1;33m:\u001b[0m\u001b[1;33m\u001b[0m\u001b[1;33m\u001b[0m\u001b[0m\n\u001b[1;32m----> 7\u001b[1;33m     \u001b[0mfood_ID\u001b[0m \u001b[1;33m=\u001b[0m \u001b[0mlen\u001b[0m\u001b[1;33m(\u001b[0m\u001b[0mfood\u001b[0m\u001b[1;33m)\u001b[0m \u001b[1;33m+\u001b[0m \u001b[1;36m1\u001b[0m\u001b[1;33m\u001b[0m\u001b[1;33m\u001b[0m\u001b[0m\n\u001b[0m\u001b[0;32m      8\u001b[0m     \u001b[0mfood\u001b[0m \u001b[1;33m=\u001b[0m \u001b[1;33m{\u001b[0m\u001b[1;33m}\u001b[0m\u001b[1;33m\u001b[0m\u001b[1;33m\u001b[0m\u001b[0m\n\u001b[0;32m      9\u001b[0m     food_items = {'Food_Name' : food_name,\n",
      "\u001b[1;31mUnboundLocalError\u001b[0m: local variable 'food' referenced before assignment"
     ]
    }
   ],
   "source": [
    "add_food('food.json', 'Kulche', 2, 30, 2, 300)"
   ]
  },
  {
   "cell_type": "code",
   "execution_count": 33,
   "metadata": {},
   "outputs": [
    {
     "data": {
      "text/plain": [
       "'Success'"
      ]
     },
     "execution_count": 33,
     "metadata": {},
     "output_type": "execute_result"
    }
   ],
   "source": [
    "add_food('food.json', 'Cold drink', 2, 30, 2, 500)"
   ]
  },
  {
   "cell_type": "code",
   "execution_count": 34,
   "metadata": {},
   "outputs": [
    {
     "data": {
      "text/plain": [
       "'Success'"
      ]
     },
     "execution_count": 34,
     "metadata": {},
     "output_type": "execute_result"
    }
   ],
   "source": [
    "add_food('food.json', 'Cake', 2, 30, 2, 500)"
   ]
  },
  {
   "cell_type": "code",
   "execution_count": 35,
   "metadata": {},
   "outputs": [
    {
     "data": {
      "text/plain": [
       "'Success'"
      ]
     },
     "execution_count": 35,
     "metadata": {},
     "output_type": "execute_result"
    }
   ],
   "source": [
    "add_food('food.json', \"Paneer Paties\", -2, 40, 0, 400)"
   ]
  },
  {
   "cell_type": "code",
   "execution_count": 43,
   "metadata": {},
   "outputs": [
    {
     "name": "stdout",
     "output_type": "stream",
     "text": [
      "Enter food ID : 1\n"
     ]
    },
    {
     "data": {
      "text/plain": [
       "'Success'"
      ]
     },
     "execution_count": 43,
     "metadata": {},
     "output_type": "execute_result"
    }
   ],
   "source": [
    "remove_food('food.json', '2')"
   ]
  },
  {
   "cell_type": "code",
   "execution_count": 66,
   "metadata": {},
   "outputs": [
    {
     "name": "stdout",
     "output_type": "stream",
     "text": [
      "-------------Menu------------\n",
      "Food ID : 0\n",
      "Food Name : Kulche\n",
      "Quantity : 2\n",
      "Price : 30\n",
      "Discount : 2\n",
      "Stock : 300\n",
      "----------------------------------------\n",
      "Food ID : 2\n",
      "Food Name : Cold drink\n",
      "Quantity : 2\n",
      "Price : 30\n",
      "Discount : 2\n",
      "Stock : 500\n",
      "----------------------------------------\n",
      "Food ID : 3\n",
      "Food Name : Cake\n",
      "Quantity : 2\n",
      "Price : 30\n",
      "Discount : 2\n",
      "Stock : 500\n",
      "----------------------------------------\n"
     ]
    },
    {
     "data": {
      "text/plain": [
       "True"
      ]
     },
     "execution_count": 66,
     "metadata": {},
     "output_type": "execute_result"
    }
   ],
   "source": [
    "show_food('food.json')"
   ]
  },
  {
   "cell_type": "code",
   "execution_count": 46,
   "metadata": {},
   "outputs": [
    {
     "name": "stdout",
     "output_type": "stream",
     "text": [
      "Enter food ID : 0\n",
      "What you want to update in food item??\n",
      "1) Update food name\n",
      "2) Update food Quantity\n",
      "3) Update food price\n",
      "4) Update discount on food\n",
      "5) Update stock availability\n",
      "Enter your choice : 2\n",
      "Enter Updated quantity :6\n",
      "\n",
      " Updated Successfully \n",
      "\n"
     ]
    },
    {
     "data": {
      "text/plain": [
       "'Success'"
      ]
     },
     "execution_count": 46,
     "metadata": {},
     "output_type": "execute_result"
    }
   ],
   "source": [
    "edit_food('food.json')"
   ]
  },
  {
   "cell_type": "code",
   "execution_count": 67,
   "metadata": {},
   "outputs": [
    {
     "name": "stdout",
     "output_type": "stream",
     "text": [
      "['Kulche', 2, 30]\n",
      "['Cold drink', 2, 30]\n",
      "['Cake', 2, 30]\n",
      "Enter 1 to place order \n",
      "Enter 2 to Exit\n",
      "Enter : 1\n",
      "Enter the food ID you want to ordered separated by the comma\n",
      "1,2\n"
     ]
    },
    {
     "ename": "TypeError",
     "evalue": "list indices must be integers or slices, not str",
     "output_type": "error",
     "traceback": [
      "\u001b[1;31m---------------------------------------------------------------------------\u001b[0m",
      "\u001b[1;31mTypeError\u001b[0m                                 Traceback (most recent call last)",
      "\u001b[1;32m<ipython-input-67-e32c895dac5a>\u001b[0m in \u001b[0;36m<module>\u001b[1;34m\u001b[0m\n\u001b[1;32m----> 1\u001b[1;33m \u001b[0mplace_order\u001b[0m\u001b[1;33m(\u001b[0m\u001b[1;34m'food.json'\u001b[0m\u001b[1;33m,\u001b[0m \u001b[1;34m'user.json'\u001b[0m\u001b[1;33m)\u001b[0m\u001b[1;33m\u001b[0m\u001b[1;33m\u001b[0m\u001b[0m\n\u001b[0m",
      "\u001b[1;32m<ipython-input-65-3fbe0ac1c6b3>\u001b[0m in \u001b[0;36mplace_order\u001b[1;34m(foodfile, userfile)\u001b[0m\n\u001b[0;32m    170\u001b[0m \u001b[1;33m\u001b[0m\u001b[0m\n\u001b[0;32m    171\u001b[0m                         \u001b[1;32mif\u001b[0m \u001b[0mz\u001b[0m \u001b[1;33m<=\u001b[0m \u001b[0mlen\u001b[0m\u001b[1;33m(\u001b[0m\u001b[0mmenu\u001b[0m\u001b[1;33m)\u001b[0m\u001b[1;33m:\u001b[0m\u001b[1;33m\u001b[0m\u001b[1;33m\u001b[0m\u001b[0m\n\u001b[1;32m--> 172\u001b[1;33m                             \u001b[0mcontent1\u001b[0m\u001b[1;33m[\u001b[0m\u001b[0mi\u001b[0m\u001b[1;33m]\u001b[0m\u001b[1;33m[\u001b[0m\u001b[1;34m'Order History'\u001b[0m\u001b[1;33m]\u001b[0m\u001b[1;33m.\u001b[0m\u001b[0mappend\u001b[0m\u001b[1;33m(\u001b[0m\u001b[0mmenu\u001b[0m\u001b[1;33m[\u001b[0m\u001b[0mz\u001b[0m\u001b[1;33m-\u001b[0m\u001b[1;36m1\u001b[0m\u001b[1;33m]\u001b[0m\u001b[1;33m)\u001b[0m\u001b[1;33m\u001b[0m\u001b[1;33m\u001b[0m\u001b[0m\n\u001b[0m\u001b[0;32m    173\u001b[0m                         \u001b[1;32melse\u001b[0m\u001b[1;33m:\u001b[0m\u001b[1;33m\u001b[0m\u001b[1;33m\u001b[0m\u001b[0m\n\u001b[0;32m    174\u001b[0m                             \u001b[0mprint\u001b[0m\u001b[1;33m(\u001b[0m\u001b[1;34m\"We don't have this food item\"\u001b[0m\u001b[1;33m)\u001b[0m\u001b[1;33m\u001b[0m\u001b[1;33m\u001b[0m\u001b[0m\n",
      "\u001b[1;31mTypeError\u001b[0m: list indices must be integers or slices, not str"
     ]
    }
   ],
   "source": [
    "place_order('food.json', 'user.json')"
   ]
  },
  {
   "cell_type": "code",
   "execution_count": 69,
   "metadata": {},
   "outputs": [
    {
     "name": "stdout",
     "output_type": "stream",
     "text": [
      "----Order History-----\n",
      "Date | Order\n"
     ]
    },
    {
     "ename": "KeyError",
     "evalue": "'Order History'",
     "output_type": "error",
     "traceback": [
      "\u001b[1;31m---------------------------------------------------------------------------\u001b[0m",
      "\u001b[1;31mKeyError\u001b[0m                                  Traceback (most recent call last)",
      "\u001b[1;32m<ipython-input-69-8e9e0227befa>\u001b[0m in \u001b[0;36m<module>\u001b[1;34m\u001b[0m\n\u001b[1;32m----> 1\u001b[1;33m \u001b[0morder_history\u001b[0m\u001b[1;33m(\u001b[0m\u001b[1;34m\"user.json\"\u001b[0m\u001b[1;33m,\u001b[0m \u001b[1;34m\"chetan@gmail.com\"\u001b[0m\u001b[1;33m)\u001b[0m\u001b[1;33m\u001b[0m\u001b[1;33m\u001b[0m\u001b[0m\n\u001b[0m",
      "\u001b[1;32m<ipython-input-68-265739a4850f>\u001b[0m in \u001b[0;36morder_history\u001b[1;34m(filename, email)\u001b[0m\n\u001b[0;32m    193\u001b[0m             \u001b[0mprint\u001b[0m\u001b[1;33m(\u001b[0m\u001b[1;34m\"----Order History-----\"\u001b[0m\u001b[1;33m)\u001b[0m\u001b[1;33m\u001b[0m\u001b[1;33m\u001b[0m\u001b[0m\n\u001b[0;32m    194\u001b[0m             \u001b[0mprint\u001b[0m\u001b[1;33m(\u001b[0m\u001b[1;34m\"Date | Order\"\u001b[0m\u001b[1;33m)\u001b[0m\u001b[1;33m\u001b[0m\u001b[1;33m\u001b[0m\u001b[0m\n\u001b[1;32m--> 195\u001b[1;33m             \u001b[1;32mfor\u001b[0m \u001b[0mi\u001b[0m\u001b[1;33m,\u001b[0m \u001b[0mj\u001b[0m \u001b[1;32min\u001b[0m \u001b[0mcontent\u001b[0m\u001b[1;33m[\u001b[0m\u001b[0mi\u001b[0m\u001b[1;33m]\u001b[0m\u001b[1;33m[\u001b[0m\u001b[1;34m'Order History'\u001b[0m\u001b[1;33m]\u001b[0m\u001b[1;33m.\u001b[0m\u001b[0mitems\u001b[0m\u001b[1;33m(\u001b[0m\u001b[1;33m)\u001b[0m\u001b[1;33m:\u001b[0m\u001b[1;33m\u001b[0m\u001b[1;33m\u001b[0m\u001b[0m\n\u001b[0m\u001b[0;32m    196\u001b[0m                 \u001b[0mprint\u001b[0m\u001b[1;33m(\u001b[0m\u001b[1;34mf\"{i} | {j}\"\u001b[0m\u001b[1;33m)\u001b[0m\u001b[1;33m\u001b[0m\u001b[1;33m\u001b[0m\u001b[0m\n\u001b[0;32m    197\u001b[0m             \u001b[0mfile\u001b[0m\u001b[1;33m.\u001b[0m\u001b[0mclose\u001b[0m\u001b[1;33m(\u001b[0m\u001b[1;33m)\u001b[0m\u001b[1;33m\u001b[0m\u001b[1;33m\u001b[0m\u001b[0m\n",
      "\u001b[1;31mKeyError\u001b[0m: 'Order History'"
     ]
    }
   ],
   "source": [
    "order_history(\"user.json\", \"chetan@gmail.com\")"
   ]
  },
  {
   "cell_type": "code",
   "execution_count": 11,
   "metadata": {},
   "outputs": [
    {
     "name": "stdout",
     "output_type": "stream",
     "text": [
      "What you want to update??\n",
      "1) Update Name\n",
      "2) Update password\n",
      "3) Update address\n",
      "4) Update Phone number\n",
      "5) Exit\n",
      "Enter your choice : 1\n",
      "Enter updated name : Utkarsh\n",
      "Updated successfully\n"
     ]
    },
    {
     "data": {
      "text/plain": [
       "'Success'"
      ]
     },
     "execution_count": 11,
     "metadata": {},
     "output_type": "execute_result"
    }
   ],
   "source": [
    "update_user_profile('user.json')"
   ]
  },
  {
   "cell_type": "code",
   "execution_count": null,
   "metadata": {},
   "outputs": [],
   "source": []
  }
 ],
 "metadata": {
  "kernelspec": {
   "display_name": "Python 3",
   "language": "python",
   "name": "python3"
  },
  "language_info": {
   "codemirror_mode": {
    "name": "ipython",
    "version": 3
   },
   "file_extension": ".py",
   "mimetype": "text/x-python",
   "name": "python",
   "nbconvert_exporter": "python",
   "pygments_lexer": "ipython3",
   "version": "3.8.6"
  }
 },
 "nbformat": 4,
 "nbformat_minor": 4
}
