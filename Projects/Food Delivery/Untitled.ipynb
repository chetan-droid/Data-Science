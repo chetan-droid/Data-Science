{
 "cells": [
  {
   "cell_type": "code",
   "execution_count": 70,
   "metadata": {},
   "outputs": [],
   "source": [
    "import json\n",
    "import datetime\n",
    "\n",
    "# ---------------------------ADD FOOD ITEMS------------------------>>>\n",
    "def add_food(filename, food_name, quantity, price, discount, stock):\n",
    "    food_ID = 0\n",
    "    food = {}\n",
    "    food_items = {'Food Name' : food_name,\n",
    "                  'Quantity' : quantity,\n",
    "                  'Price': price,\n",
    "                  'Discount' : discount,\n",
    "                  'Stock': stock}\n",
    "    \n",
    "    try:\n",
    "        file = open(filename, 'r+')\n",
    "        data = json.load(file)\n",
    "        \n",
    "        for i in data:\n",
    "            if data[i]['Food Name'] == food_name:\n",
    "                file.close()\n",
    "                return 'Food already exists'\n",
    "            \n",
    "        else:\n",
    "            food_ID = len(data) + 1\n",
    "            food[food_ID] = food_items\n",
    "            data.update(food)\n",
    "            \n",
    "    except json.decoder.JSONDecodeError:\n",
    "        data = {}\n",
    "        food[food_ID] = food_items\n",
    "        data.update(food)\n",
    "    file.seek(0)\n",
    "    file.truncate()\n",
    "    json.dump(data, file, indent=4)\n",
    "    file.close()\n",
    "    return 'Success'\n",
    "        \n",
    "# -------------------------EDIT FOOD----------------------->>>  \n",
    "def edit_food(filename):\n",
    "    \n",
    "    file = open(filename)\n",
    "    content = json.load(file)\n",
    "    file.close()\n",
    "    food_ID = input('Enter food ID : ')\n",
    "    if food_ID in content.keys():\n",
    "        print(\"What you want to update in food item??\")\n",
    "        print(\"1) Update food name\")\n",
    "        print(\"2) Update food Quantity\")\n",
    "        print(\"3) Update food price\")\n",
    "        print(\"4) Update discount on food\")\n",
    "        print(\"5) Update stock availability\")\n",
    "\n",
    "        y = input('Enter your choice : ')\n",
    "        if y == '1':\n",
    "            content[food_ID][\"Food Name\"] = input('Enter Updated name :')\n",
    "            print(\"\\n Updated Successfully \\n\")\n",
    "        elif y == '2':\n",
    "            content[food_ID][\"Quantity\"] = input('Enter Updated quantity :')\n",
    "            print(\"\\n Updated Successfully \\n\")\n",
    "        elif y == '3':\n",
    "            content[food_ID][\"Price\"] = input('Enter Updated price :')\n",
    "            print(\"\\n Updated Successfully \\n\")\n",
    "        elif y == '4':\n",
    "            content[food_ID][\"Discount\"] = input('Enter Updated discount value :')\n",
    "            print(\"\\n Updated Successfully \\n\")\n",
    "        elif y == '5':\n",
    "            content[food_ID][\"Stock\"] = input('Enter Updated stock :')\n",
    "            print(\"\\n Updated Successfully \\n\")\n",
    "        else:\n",
    "            print('Invalid selection')\n",
    "    else:\n",
    "        print('Invalid Food ID') \n",
    "    file = open(filename, 'w')\n",
    "    json.dumps(content)\n",
    "    file.close()\n",
    "    return 'Success'\n",
    "    \n",
    "    \n",
    "#------------------------------REMOVE FOOD ITEM-------------------->>>\n",
    "def remove_food(filename, food_ID):\n",
    "    file = open(filename, 'r+')\n",
    "    data = json.load(file)\n",
    "    \n",
    "    for i in data:\n",
    "        if i == input('Enter food ID : '):\n",
    "            del data[i]\n",
    "            file.seek(0)\n",
    "            file.truncate()\n",
    "            json.dump(data, file, indent=4)\n",
    "            file.close()\n",
    "            return 'Success'\n",
    "    return 'Please enter valid food ID'\n",
    "\n",
    "#------------------------SHOW FOOD--------------------->>>\n",
    "def show_food(filename):\n",
    "    try:\n",
    "        file = open(filename)\n",
    "        content = json.load(file)\n",
    "        print(\"-------------Menu------------\")\n",
    "    \n",
    "        for i in content:\n",
    "            print(f'Food ID : {i}')\n",
    "            print(f\"Food Name : {content[i]['Food Name']}\")\n",
    "            print(f\"Quantity : {content[i]['Quantity']}\")\n",
    "            print(f\"Price : {content[i]['Price']}\")\n",
    "            print(f\"Discount : {content[i]['Discount']}\")\n",
    "            print(f\"Stock : {content[i]['Stock']}\")\n",
    "            print('----------------------------------------')\n",
    "        file.close()\n",
    "        return True\n",
    "    except json.JSONDecodeError:\n",
    "        content = {}\n",
    "        return 'No food available'\n",
    "\n",
    "# -----------------------REGISTER NEW USERS------------------------------->>>\n",
    "def register_user(user_file, username, password, email, address, phn_number):\n",
    "    \n",
    "    user = {'Full_name': username, \n",
    "           'Password': password, \n",
    "           'Email' : email, \n",
    "           'Address': address,\n",
    "           'Phone Number' : phn_number,\n",
    "           'Order History' : {}\n",
    "           }\n",
    "    try:\n",
    "        file = open(user_file, 'r+')\n",
    "        content = json.load(file)\n",
    "        for i in range(len(content)):\n",
    "            if content[i]['Email'] == email:\n",
    "                return 'User already exists'\n",
    "            \n",
    "        else:\n",
    "            content.append(user)\n",
    "    except json.decoder.JSONDecodeError:\n",
    "        user = []\n",
    "        content.append(user)\n",
    "        \n",
    "    file.seek(0)\n",
    "    file.truncate()\n",
    "    json.dump(content, file, indent=4)\n",
    "    return 'Registered successfully!'\n",
    "    \n",
    "    \n",
    "# ---------------------PLACE ORDERS-------------------->>>>\n",
    "def place_order(foodfile, userfile):\n",
    "    \n",
    "    file = open(foodfile, 'r+')\n",
    "    content = json.load(file)\n",
    "\n",
    "    if len(content) != 0:\n",
    "        menu = []\n",
    "        for items in content:\n",
    "            menu.append([content[items]['Food Name'], content[items]['Quantity'], content[items]['Price']])\n",
    "        for i in menu:\n",
    "            print(i)\n",
    "\n",
    "        while True:\n",
    "            print(\"Enter 1 to place order \\nEnter 2 to Exit\")\n",
    "            x = input('Enter : ')\n",
    "            file1 = open(userfile, 'r+')\n",
    "            content1 = json.load(file1)\n",
    "\n",
    "            for i in content:\n",
    "                if x == '1':\n",
    "                    print('Enter the food ID you want to ordered separated by the comma')\n",
    "                    y = input().split(\",\")\n",
    "                    for i in y:\n",
    "                        z = int(i)\n",
    "\n",
    "\n",
    "                        if z <= len(menu):\n",
    "                            content1[i]['Order History'].append(menu[z-1])\n",
    "                        else:\n",
    "                            print(\"We don't have this food item\")\n",
    "                    print('List of food you selected : \\n')\n",
    "                    for j in content1[i]['Order History']:\n",
    "                        print(j)\n",
    "\n",
    "                elif x == '2':\n",
    "                    break\n",
    "                else:\n",
    "                    print(\"Invalid Number\")\n",
    "    else:\n",
    "        print(\"Sorry! no food available\")\n",
    "            \n",
    "            \n",
    "def order_history(filename, email):\n",
    "    file = open(filename, 'r+')\n",
    "    content = json.load(file)\n",
    "    \n",
    "    for i in range(len(content)):\n",
    "        if content[i]['Email'] == email:\n",
    "            print(\"----Order History-----\")\n",
    "            print(\"Date | Order\")\n",
    "            for i, j in content[i]['Order History'].items():\n",
    "                print(f\"{i} | {j}\")\n",
    "            file.close()\n",
    "            return True\n",
    "    file.close()\n",
    "    return False\n",
    "        "
   ]
  },
  {
   "cell_type": "code",
   "execution_count": 71,
   "metadata": {},
   "outputs": [
    {
     "data": {
      "text/plain": [
       "'User already exists'"
      ]
     },
     "execution_count": 71,
     "metadata": {},
     "output_type": "execute_result"
    }
   ],
   "source": [
    "register_user('user.json', 'Chetan', 'chetan123', 'chetan@gmail.com', 'Jamshedpur', 8201252133)"
   ]
  },
  {
   "cell_type": "code",
   "execution_count": 54,
   "metadata": {},
   "outputs": [
    {
     "data": {
      "text/plain": [
       "'Success'"
      ]
     },
     "execution_count": 54,
     "metadata": {},
     "output_type": "execute_result"
    }
   ],
   "source": [
    "add_food('food.json', 'Kulche', 2, 30, 2, 300)"
   ]
  },
  {
   "cell_type": "code",
   "execution_count": 55,
   "metadata": {},
   "outputs": [
    {
     "data": {
      "text/plain": [
       "'Success'"
      ]
     },
     "execution_count": 55,
     "metadata": {},
     "output_type": "execute_result"
    }
   ],
   "source": [
    "add_food('food.json', 'Cold drink', 2, 30, 2, 500)"
   ]
  },
  {
   "cell_type": "code",
   "execution_count": 56,
   "metadata": {},
   "outputs": [
    {
     "data": {
      "text/plain": [
       "'Success'"
      ]
     },
     "execution_count": 56,
     "metadata": {},
     "output_type": "execute_result"
    }
   ],
   "source": [
    "add_food('food.json', 'Cake', 2, 30, 2, 500)"
   ]
  },
  {
   "cell_type": "code",
   "execution_count": 43,
   "metadata": {},
   "outputs": [
    {
     "name": "stdout",
     "output_type": "stream",
     "text": [
      "Enter food ID : 1\n"
     ]
    },
    {
     "data": {
      "text/plain": [
       "'Success'"
      ]
     },
     "execution_count": 43,
     "metadata": {},
     "output_type": "execute_result"
    }
   ],
   "source": [
    "remove_food('food.json', '2')"
   ]
  },
  {
   "cell_type": "code",
   "execution_count": 66,
   "metadata": {},
   "outputs": [
    {
     "name": "stdout",
     "output_type": "stream",
     "text": [
      "-------------Menu------------\n",
      "Food ID : 0\n",
      "Food Name : Kulche\n",
      "Quantity : 2\n",
      "Price : 30\n",
      "Discount : 2\n",
      "Stock : 300\n",
      "----------------------------------------\n",
      "Food ID : 2\n",
      "Food Name : Cold drink\n",
      "Quantity : 2\n",
      "Price : 30\n",
      "Discount : 2\n",
      "Stock : 500\n",
      "----------------------------------------\n",
      "Food ID : 3\n",
      "Food Name : Cake\n",
      "Quantity : 2\n",
      "Price : 30\n",
      "Discount : 2\n",
      "Stock : 500\n",
      "----------------------------------------\n"
     ]
    },
    {
     "data": {
      "text/plain": [
       "True"
      ]
     },
     "execution_count": 66,
     "metadata": {},
     "output_type": "execute_result"
    }
   ],
   "source": [
    "show_food('food.json')"
   ]
  },
  {
   "cell_type": "code",
   "execution_count": 46,
   "metadata": {},
   "outputs": [
    {
     "name": "stdout",
     "output_type": "stream",
     "text": [
      "Enter food ID : 0\n",
      "What you want to update in food item??\n",
      "1) Update food name\n",
      "2) Update food Quantity\n",
      "3) Update food price\n",
      "4) Update discount on food\n",
      "5) Update stock availability\n",
      "Enter your choice : 2\n",
      "Enter Updated quantity :6\n",
      "\n",
      " Updated Successfully \n",
      "\n"
     ]
    },
    {
     "data": {
      "text/plain": [
       "'Success'"
      ]
     },
     "execution_count": 46,
     "metadata": {},
     "output_type": "execute_result"
    }
   ],
   "source": [
    "edit_food('food.json')"
   ]
  },
  {
   "cell_type": "code",
   "execution_count": 67,
   "metadata": {},
   "outputs": [
    {
     "name": "stdout",
     "output_type": "stream",
     "text": [
      "['Kulche', 2, 30]\n",
      "['Cold drink', 2, 30]\n",
      "['Cake', 2, 30]\n",
      "Enter 1 to place order \n",
      "Enter 2 to Exit\n",
      "Enter : 1\n",
      "Enter the food ID you want to ordered separated by the comma\n",
      "1,2\n"
     ]
    },
    {
     "ename": "TypeError",
     "evalue": "list indices must be integers or slices, not str",
     "output_type": "error",
     "traceback": [
      "\u001b[1;31m---------------------------------------------------------------------------\u001b[0m",
      "\u001b[1;31mTypeError\u001b[0m                                 Traceback (most recent call last)",
      "\u001b[1;32m<ipython-input-67-e32c895dac5a>\u001b[0m in \u001b[0;36m<module>\u001b[1;34m\u001b[0m\n\u001b[1;32m----> 1\u001b[1;33m \u001b[0mplace_order\u001b[0m\u001b[1;33m(\u001b[0m\u001b[1;34m'food.json'\u001b[0m\u001b[1;33m,\u001b[0m \u001b[1;34m'user.json'\u001b[0m\u001b[1;33m)\u001b[0m\u001b[1;33m\u001b[0m\u001b[1;33m\u001b[0m\u001b[0m\n\u001b[0m",
      "\u001b[1;32m<ipython-input-65-3fbe0ac1c6b3>\u001b[0m in \u001b[0;36mplace_order\u001b[1;34m(foodfile, userfile)\u001b[0m\n\u001b[0;32m    170\u001b[0m \u001b[1;33m\u001b[0m\u001b[0m\n\u001b[0;32m    171\u001b[0m                         \u001b[1;32mif\u001b[0m \u001b[0mz\u001b[0m \u001b[1;33m<=\u001b[0m \u001b[0mlen\u001b[0m\u001b[1;33m(\u001b[0m\u001b[0mmenu\u001b[0m\u001b[1;33m)\u001b[0m\u001b[1;33m:\u001b[0m\u001b[1;33m\u001b[0m\u001b[1;33m\u001b[0m\u001b[0m\n\u001b[1;32m--> 172\u001b[1;33m                             \u001b[0mcontent1\u001b[0m\u001b[1;33m[\u001b[0m\u001b[0mi\u001b[0m\u001b[1;33m]\u001b[0m\u001b[1;33m[\u001b[0m\u001b[1;34m'Order History'\u001b[0m\u001b[1;33m]\u001b[0m\u001b[1;33m.\u001b[0m\u001b[0mappend\u001b[0m\u001b[1;33m(\u001b[0m\u001b[0mmenu\u001b[0m\u001b[1;33m[\u001b[0m\u001b[0mz\u001b[0m\u001b[1;33m-\u001b[0m\u001b[1;36m1\u001b[0m\u001b[1;33m]\u001b[0m\u001b[1;33m)\u001b[0m\u001b[1;33m\u001b[0m\u001b[1;33m\u001b[0m\u001b[0m\n\u001b[0m\u001b[0;32m    173\u001b[0m                         \u001b[1;32melse\u001b[0m\u001b[1;33m:\u001b[0m\u001b[1;33m\u001b[0m\u001b[1;33m\u001b[0m\u001b[0m\n\u001b[0;32m    174\u001b[0m                             \u001b[0mprint\u001b[0m\u001b[1;33m(\u001b[0m\u001b[1;34m\"We don't have this food item\"\u001b[0m\u001b[1;33m)\u001b[0m\u001b[1;33m\u001b[0m\u001b[1;33m\u001b[0m\u001b[0m\n",
      "\u001b[1;31mTypeError\u001b[0m: list indices must be integers or slices, not str"
     ]
    }
   ],
   "source": [
    "place_order('food.json', 'user.json')"
   ]
  },
  {
   "cell_type": "code",
   "execution_count": 69,
   "metadata": {},
   "outputs": [
    {
     "name": "stdout",
     "output_type": "stream",
     "text": [
      "----Order History-----\n",
      "Date | Order\n"
     ]
    },
    {
     "ename": "KeyError",
     "evalue": "'Order History'",
     "output_type": "error",
     "traceback": [
      "\u001b[1;31m---------------------------------------------------------------------------\u001b[0m",
      "\u001b[1;31mKeyError\u001b[0m                                  Traceback (most recent call last)",
      "\u001b[1;32m<ipython-input-69-8e9e0227befa>\u001b[0m in \u001b[0;36m<module>\u001b[1;34m\u001b[0m\n\u001b[1;32m----> 1\u001b[1;33m \u001b[0morder_history\u001b[0m\u001b[1;33m(\u001b[0m\u001b[1;34m\"user.json\"\u001b[0m\u001b[1;33m,\u001b[0m \u001b[1;34m\"chetan@gmail.com\"\u001b[0m\u001b[1;33m)\u001b[0m\u001b[1;33m\u001b[0m\u001b[1;33m\u001b[0m\u001b[0m\n\u001b[0m",
      "\u001b[1;32m<ipython-input-68-265739a4850f>\u001b[0m in \u001b[0;36morder_history\u001b[1;34m(filename, email)\u001b[0m\n\u001b[0;32m    193\u001b[0m             \u001b[0mprint\u001b[0m\u001b[1;33m(\u001b[0m\u001b[1;34m\"----Order History-----\"\u001b[0m\u001b[1;33m)\u001b[0m\u001b[1;33m\u001b[0m\u001b[1;33m\u001b[0m\u001b[0m\n\u001b[0;32m    194\u001b[0m             \u001b[0mprint\u001b[0m\u001b[1;33m(\u001b[0m\u001b[1;34m\"Date | Order\"\u001b[0m\u001b[1;33m)\u001b[0m\u001b[1;33m\u001b[0m\u001b[1;33m\u001b[0m\u001b[0m\n\u001b[1;32m--> 195\u001b[1;33m             \u001b[1;32mfor\u001b[0m \u001b[0mi\u001b[0m\u001b[1;33m,\u001b[0m \u001b[0mj\u001b[0m \u001b[1;32min\u001b[0m \u001b[0mcontent\u001b[0m\u001b[1;33m[\u001b[0m\u001b[0mi\u001b[0m\u001b[1;33m]\u001b[0m\u001b[1;33m[\u001b[0m\u001b[1;34m'Order History'\u001b[0m\u001b[1;33m]\u001b[0m\u001b[1;33m.\u001b[0m\u001b[0mitems\u001b[0m\u001b[1;33m(\u001b[0m\u001b[1;33m)\u001b[0m\u001b[1;33m:\u001b[0m\u001b[1;33m\u001b[0m\u001b[1;33m\u001b[0m\u001b[0m\n\u001b[0m\u001b[0;32m    196\u001b[0m                 \u001b[0mprint\u001b[0m\u001b[1;33m(\u001b[0m\u001b[1;34mf\"{i} | {j}\"\u001b[0m\u001b[1;33m)\u001b[0m\u001b[1;33m\u001b[0m\u001b[1;33m\u001b[0m\u001b[0m\n\u001b[0;32m    197\u001b[0m             \u001b[0mfile\u001b[0m\u001b[1;33m.\u001b[0m\u001b[0mclose\u001b[0m\u001b[1;33m(\u001b[0m\u001b[1;33m)\u001b[0m\u001b[1;33m\u001b[0m\u001b[1;33m\u001b[0m\u001b[0m\n",
      "\u001b[1;31mKeyError\u001b[0m: 'Order History'"
     ]
    }
   ],
   "source": [
    "order_history(\"user.json\", \"chetan@gmail.com\")"
   ]
  },
  {
   "cell_type": "code",
   "execution_count": null,
   "metadata": {},
   "outputs": [],
   "source": []
  }
 ],
 "metadata": {
  "kernelspec": {
   "display_name": "Python 3",
   "language": "python",
   "name": "python3"
  },
  "language_info": {
   "codemirror_mode": {
    "name": "ipython",
    "version": 3
   },
   "file_extension": ".py",
   "mimetype": "text/x-python",
   "name": "python",
   "nbconvert_exporter": "python",
   "pygments_lexer": "ipython3",
   "version": "3.8.6"
  }
 },
 "nbformat": 4,
 "nbformat_minor": 4
}
